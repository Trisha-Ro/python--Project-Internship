{
 "cells": [
  {
   "cell_type": "code",
   "execution_count": 2,
   "id": "7a6a58e1",
   "metadata": {},
   "outputs": [
    {
     "name": "stdout",
     "output_type": "stream",
     "text": [
      "enter the number5\n",
      "120\n"
     ]
    }
   ],
   "source": [
    "#Write a python program to find the factorial of a number\n",
    "\n",
    "def factorial(n):\n",
    "\n",
    "    if n == 0:\n",
    "        return 1\n",
    "    else:\n",
    "        return n * factorial(n-1)\n",
    "n = int(input(\"enter the number\"))\n",
    "print(factorial(n))"
   ]
  },
  {
   "cell_type": "code",
   "execution_count": 5,
   "id": "26b2b668",
   "metadata": {},
   "outputs": [
    {
     "name": "stdout",
     "output_type": "stream",
     "text": [
      "Please enter your own text : MOM\n",
      "This is a Palindrome String\n"
     ]
    }
   ],
   "source": [
    "#Write a python program to check whether a given string is palindrome or not\n",
    "\n",
    "st = input(\"Please enter your own text : \")\n",
    "\n",
    "if(st == st[:: - 1]):\n",
    "   print(\"This is a Palindrome String\")\n",
    "else:\n",
    "   print(\"This is not a Palindrome String\")"
   ]
  },
  {
   "cell_type": "code",
   "execution_count": 2,
   "id": "467a5f9a",
   "metadata": {},
   "outputs": [
    {
     "name": "stdout",
     "output_type": "stream",
     "text": [
      "Enter the string: Data Science\n",
      "{'D': 1, 'a': 2, 't': 1, ' ': 1, 'S': 1, 'c': 2, 'i': 1, 'e': 2, 'n': 1}\n"
     ]
    }
   ],
   "source": [
    "#Write a python program to print the frequency of each of the characters present in a given string\n",
    "\n",
    "str = input (\"Enter the string: \")\n",
    "d = dict()\n",
    "for i in str:\n",
    "    if i in d:\n",
    "        d[i] = d[i] + 1\n",
    "    else:\n",
    "        d[i] = 1\n",
    "print(d)"
   ]
  },
  {
   "cell_type": "code",
   "execution_count": 7,
   "id": "1a4bcea3",
   "metadata": {},
   "outputs": [
    {
     "name": "stdout",
     "output_type": "stream",
     "text": [
      "Enter the length of one side : 4\n",
      "Enter the length of another side : 3\n",
      "Length of the third side is :  5.0\n"
     ]
    }
   ],
   "source": [
    "#Write a Python program to get the third side of right-angled triangle from two given sides.\n",
    "\n",
    "import math\n",
    "x=int(input(\"Enter the length of one side : \"))\n",
    "y=int(input(\"Enter the length of another side : \"))\n",
    "z=math.sqrt(x**2+y**2)\n",
    "print(\"Length of the third side is : \",z)"
   ]
  },
  {
   "cell_type": "code",
   "execution_count": 5,
   "id": "69027bda",
   "metadata": {},
   "outputs": [
    {
     "name": "stdout",
     "output_type": "stream",
     "text": [
      "Enter your number: 21\n",
      "The number is composite\n"
     ]
    }
   ],
   "source": [
    "#Write a python program to find whether a number is prime or composite\n",
    "\n",
    "number = int(input(\"Enter your number: \"))\n",
    "n = 0\n",
    "\n",
    "for i in range(1, number+1):\n",
    "    if number % i == 0:\n",
    "        n += 1\n",
    "\n",
    "if n > 2:\n",
    "    print(\"The number is composite\")\n",
    "else:\n",
    "    print(\"The number is prime\")"
   ]
  },
  {
   "cell_type": "code",
   "execution_count": null,
   "id": "7450ad0d",
   "metadata": {},
   "outputs": [],
   "source": []
  },
  {
   "cell_type": "code",
   "execution_count": null,
   "id": "209339a8",
   "metadata": {},
   "outputs": [],
   "source": []
  },
  {
   "cell_type": "code",
   "execution_count": null,
   "id": "3204349f",
   "metadata": {},
   "outputs": [],
   "source": []
  },
  {
   "cell_type": "code",
   "execution_count": null,
   "id": "c34986cd",
   "metadata": {},
   "outputs": [],
   "source": []
  }
 ],
 "metadata": {
  "kernelspec": {
   "display_name": "Python 3 (ipykernel)",
   "language": "python",
   "name": "python3"
  },
  "language_info": {
   "codemirror_mode": {
    "name": "ipython",
    "version": 3
   },
   "file_extension": ".py",
   "mimetype": "text/x-python",
   "name": "python",
   "nbconvert_exporter": "python",
   "pygments_lexer": "ipython3",
   "version": "3.9.12"
  }
 },
 "nbformat": 4,
 "nbformat_minor": 5
}
